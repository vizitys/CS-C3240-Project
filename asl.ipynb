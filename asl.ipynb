{
 "cells": [
  {
   "cell_type": "markdown",
   "id": "0",
   "metadata": {},
   "source": [
    "Download the dataset from Kaggle. Add your `kaggle.json` API key to the project root from [Kaggle settings](https://www.kaggle.com/settings) so that `asl.ipynb` and `kaggle.json` are in the same directory. "
   ]
  },
  {
   "cell_type": "code",
   "execution_count": null,
   "id": "1",
   "metadata": {
    "tags": []
   },
   "outputs": [],
   "source": [
    "%pip install opendatasets nbstripout pandas numpy pillow matplotlib scikit-learn --upgrade --quiet\n",
    "# strips out notebook output for commits\n",
    "# !nbstripout --install --attributes .gitattributes"
   ]
  },
  {
   "cell_type": "code",
   "execution_count": null,
   "id": "2",
   "metadata": {
    "tags": []
   },
   "outputs": [],
   "source": [
    "import opendatasets as od\n",
    "import glob\n",
    "\n",
    "# define a random state for testing\n",
    "randomstate = 13\n",
    "\n",
    "dataset = 'https://www.kaggle.com/datasets/grassknoted/asl-alphabet'\n",
    "od.download(dataset)\n",
    "training_set_files = glob.glob(\"./asl-alphabet/asl_alphabet_train/asl_alphabet_train/*/*.jpg\")\n"
   ]
  },
  {
   "cell_type": "code",
   "execution_count": null,
   "id": "3",
   "metadata": {},
   "outputs": [],
   "source": [
    "import numpy as np\n",
    "from PIL import Image\n",
    "from sklearn.model_selection import train_test_split\n",
    "\n",
    "# resolution to scale to\n",
    "res = (50, 50)\n",
    "X, y = [], []\n",
    "\n",
    "for file in training_set_files:\n",
    "  # the foldername tells the character\n",
    "  label = file.split(\"/\")[-2]\n",
    "  if label in [\"del\", \"nothing\", \"space\"]:\n",
    "    continue\n",
    "  img = Image.open(file)\n",
    "  img_r = img.resize(res)\n",
    "  img_bw = np.array(img_r.convert(\"L\"))\n",
    "  \n",
    "  # generate a feature vector\n",
    "  img_flat = img_bw.reshape(-1, res[0]*res[1])[0]\n",
    "  \n",
    "  X.append(img_flat)\n",
    "  y.append(label)\n",
    " \n",
    "# split into 80-10-10\n",
    "X_train, X_val, y_train, y_val = train_test_split(X, y, test_size=0.2, random_state=randomstate)\n",
    "X_test, X_val, y_test, y_val = train_test_split(X_val, y_val, test_size=0.5, random_state=randomstate)\n",
    "\n",
    "print(len(X_train), len(X_val), len(X_test), len(y_train), len(y_val), len(y_test))"
   ]
  },
  {
   "cell_type": "code",
   "execution_count": null,
   "id": "4",
   "metadata": {},
   "outputs": [],
   "source": [
    "import matplotlib.pyplot as plt\n",
    "\n",
    "# plot an example of every sign (from \"A\" to \"Z\")\n",
    "unique_labels = sorted(set(y))\n",
    "fig, axes = plt.subplots(4, 7, figsize=(15, 10))\n",
    "axes = axes.flatten()\n",
    "\n",
    "for ax, label in zip(axes, unique_labels):\n",
    "    idx = y.index(label)\n",
    "    img = X[idx].reshape(res)\n",
    "    ax.imshow(img, cmap='gray', vmin=0, vmax=255)\n",
    "    ax.set_title(label)\n",
    "    ax.axis('off')\n",
    "\n",
    "# remove extra plots\n",
    "for ax in axes[len(unique_labels):]:\n",
    "    fig.delaxes(ax)\n",
    "\n",
    "plt.tight_layout()\n",
    "plt.show()"
   ]
  }
 ],
 "metadata": {
  "kernelspec": {
   "display_name": "Python 3",
   "language": "python",
   "name": "python3"
  },
  "language_info": {
   "codemirror_mode": {
    "name": "ipython",
    "version": 3
   },
   "file_extension": ".py",
   "mimetype": "text/x-python",
   "name": "python",
   "nbconvert_exporter": "python",
   "pygments_lexer": "ipython3",
   "version": "3.12.6"
  }
 },
 "nbformat": 4,
 "nbformat_minor": 5
}
